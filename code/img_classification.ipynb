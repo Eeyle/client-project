{
 "cells": [
  {
   "cell_type": "code",
   "execution_count": 1,
   "metadata": {},
   "outputs": [],
   "source": [
    "import numpy as np\n",
    "import pandas as pd\n",
    "from PIL import Image\n",
    "\n",
    "from FloodImageClassifier import FloodImageClassifier\n",
    "\n",
    "from sklearn.metrics import confusion_matrix, roc_auc_score"
   ]
  },
  {
   "cell_type": "code",
   "execution_count": 2,
   "metadata": {},
   "outputs": [],
   "source": [
    "def confuse(y_true, y_pred):\n",
    "    return pd.DataFrame(\n",
    "        data = confusion_matrix(y_true, y_pred).T,\n",
    "        columns = ['real false', 'real true'],\n",
    "        index = ['pred false', 'pred true']\n",
    "    )"
   ]
  },
  {
   "cell_type": "code",
   "execution_count": 3,
   "metadata": {},
   "outputs": [],
   "source": [
    "def evl(y_true, y_pred, title):\n",
    "    matrix = confusion_matrix(y_true, y_pred).T\n",
    "    tp = matrix[1, 1]\n",
    "    tn = matrix[0, 0]\n",
    "    fp = matrix[1, 0]\n",
    "    fn = matrix[0, 1]\n",
    "    return pd.DataFrame(\n",
    "        data = {\n",
    "            'accuracy': [np.round((tp + tn) / (tp + tn + fp + fn), 3)],\n",
    "            'sensitivity': [np.round(tp / (tp + fn), 3)],\n",
    "            'specificity': [np.round(tn / (tn + fp), 3)],\n",
    "            'precision': [np.round(tp / (tp + fp), 3)],\n",
    "            'ROC AUC': [np.round(roc_auc_score(y_true, y_pred), 3)],\n",
    "        },\n",
    "        index = [title]\n",
    "    )"
   ]
  },
  {
   "cell_type": "markdown",
   "metadata": {},
   "source": [
    "### Testing class"
   ]
  },
  {
   "cell_type": "code",
   "execution_count": 4,
   "metadata": {},
   "outputs": [],
   "source": [
    "fic = FloodImageClassifier(\n",
    "    '../binary_images/flood_image_classifier_mlp_128_16.sav',\n",
    "    '../binary_images/images/'\n",
    ")"
   ]
  },
  {
   "cell_type": "code",
   "execution_count": 3,
   "metadata": {},
   "outputs": [],
   "source": [
    "image_file_name = 'img_0.jpg'\n",
    "img = Image.open(fic.path_to_images + image_file_name)"
   ]
  },
  {
   "cell_type": "code",
   "execution_count": 4,
   "metadata": {},
   "outputs": [
    {
     "data": {
      "text/plain": [
       "False"
      ]
     },
     "execution_count": 4,
     "metadata": {},
     "output_type": "execute_result"
    }
   ],
   "source": [
    "fic.predict_x(image_file_name)"
   ]
  },
  {
   "cell_type": "code",
   "execution_count": 5,
   "metadata": {},
   "outputs": [],
   "source": [
    "df = fic.predict(pd.Series([f'img_{i}.jpg' for i in range(10)]))"
   ]
  },
  {
   "cell_type": "code",
   "execution_count": 6,
   "metadata": {},
   "outputs": [
    {
     "data": {
      "text/plain": [
       "0    False\n",
       "1     True\n",
       "2     True\n",
       "3     True\n",
       "4     True\n",
       "5     True\n",
       "6    False\n",
       "7     True\n",
       "8     True\n",
       "9     True\n",
       "dtype: bool"
      ]
     },
     "execution_count": 6,
     "metadata": {},
     "output_type": "execute_result"
    }
   ],
   "source": [
    "df"
   ]
  },
  {
   "cell_type": "markdown",
   "metadata": {},
   "source": [
    "### Testing on train data"
   ]
  },
  {
   "cell_type": "code",
   "execution_count": 8,
   "metadata": {},
   "outputs": [],
   "source": [
    "with open('../binary_images/data/non_flood_images.txt') as file:\n",
    "    file_contents = file.readlines()\n",
    "\n",
    "non_flood_images =[int(num.strip()) for num in (''.join(file_contents)).split(',')]"
   ]
  },
  {
   "cell_type": "code",
   "execution_count": 9,
   "metadata": {},
   "outputs": [
    {
     "data": {
      "text/plain": [
       "[6,\n",
       " 10,\n",
       " 13,\n",
       " 33,\n",
       " 40,\n",
       " 57,\n",
       " 59,\n",
       " 72,\n",
       " 106,\n",
       " 114,\n",
       " 118,\n",
       " 127,\n",
       " 129,\n",
       " 131,\n",
       " 134,\n",
       " 135,\n",
       " 137,\n",
       " 139,\n",
       " 140,\n",
       " 143,\n",
       " 144,\n",
       " 145,\n",
       " 148,\n",
       " 149,\n",
       " 150,\n",
       " 151,\n",
       " 154,\n",
       " 157,\n",
       " 159,\n",
       " 165,\n",
       " 166,\n",
       " 171,\n",
       " 172,\n",
       " 173,\n",
       " 177,\n",
       " 178,\n",
       " 183,\n",
       " 187,\n",
       " 192,\n",
       " 193,\n",
       " 195,\n",
       " 196,\n",
       " 197,\n",
       " 199,\n",
       " 200,\n",
       " 201,\n",
       " 202,\n",
       " 203,\n",
       " 205,\n",
       " 206,\n",
       " 207,\n",
       " 208,\n",
       " 209,\n",
       " 211,\n",
       " 213,\n",
       " 215,\n",
       " 217,\n",
       " 219,\n",
       " 221,\n",
       " 222,\n",
       " 226,\n",
       " 229,\n",
       " 230,\n",
       " 231,\n",
       " 235,\n",
       " 236,\n",
       " 237,\n",
       " 238,\n",
       " 239,\n",
       " 240,\n",
       " 241,\n",
       " 242,\n",
       " 243,\n",
       " 244,\n",
       " 245,\n",
       " 246,\n",
       " 247,\n",
       " 248,\n",
       " 249,\n",
       " 250,\n",
       " 251,\n",
       " 252,\n",
       " 253,\n",
       " 255,\n",
       " 256,\n",
       " 258,\n",
       " 259,\n",
       " 260,\n",
       " 261,\n",
       " 262,\n",
       " 266,\n",
       " 267,\n",
       " 268,\n",
       " 271,\n",
       " 272,\n",
       " 273,\n",
       " 274,\n",
       " 275,\n",
       " 276,\n",
       " 278,\n",
       " 279,\n",
       " 281,\n",
       " 285,\n",
       " 286,\n",
       " 287,\n",
       " 289,\n",
       " 291,\n",
       " 294,\n",
       " 297,\n",
       " 299,\n",
       " 300,\n",
       " 301,\n",
       " 302,\n",
       " 303,\n",
       " 305,\n",
       " 307,\n",
       " 309,\n",
       " 311,\n",
       " 312,\n",
       " 313,\n",
       " 314,\n",
       " 318,\n",
       " 322,\n",
       " 323,\n",
       " 324,\n",
       " 325,\n",
       " 327,\n",
       " 329,\n",
       " 330,\n",
       " 331,\n",
       " 332,\n",
       " 336,\n",
       " 339,\n",
       " 341,\n",
       " 342,\n",
       " 343,\n",
       " 347,\n",
       " 348,\n",
       " 350,\n",
       " 352,\n",
       " 355,\n",
       " 356,\n",
       " 358,\n",
       " 360,\n",
       " 361,\n",
       " 363,\n",
       " 370,\n",
       " 372,\n",
       " 373,\n",
       " 376,\n",
       " 379,\n",
       " 383,\n",
       " 388,\n",
       " 389,\n",
       " 390,\n",
       " 393,\n",
       " 394,\n",
       " 395,\n",
       " 399,\n",
       " 401,\n",
       " 402,\n",
       " 403,\n",
       " 405,\n",
       " 409,\n",
       " 410,\n",
       " 413,\n",
       " 414,\n",
       " 415,\n",
       " 421,\n",
       " 423,\n",
       " 424,\n",
       " 425,\n",
       " 428,\n",
       " 430,\n",
       " 437,\n",
       " 439,\n",
       " 440,\n",
       " 444,\n",
       " 445,\n",
       " 447,\n",
       " 448,\n",
       " 449,\n",
       " 451,\n",
       " 455,\n",
       " 458,\n",
       " 459,\n",
       " 460,\n",
       " 461,\n",
       " 462,\n",
       " 463,\n",
       " 464,\n",
       " 465,\n",
       " 471,\n",
       " 473,\n",
       " 474,\n",
       " 475,\n",
       " 477,\n",
       " 479,\n",
       " 483,\n",
       " 485,\n",
       " 487,\n",
       " 488,\n",
       " 490,\n",
       " 491,\n",
       " 494,\n",
       " 495,\n",
       " 498,\n",
       " 499,\n",
       " 502,\n",
       " 503,\n",
       " 504,\n",
       " 505,\n",
       " 506,\n",
       " 507,\n",
       " 508,\n",
       " 509,\n",
       " 512,\n",
       " 513,\n",
       " 514,\n",
       " 516,\n",
       " 518,\n",
       " 520,\n",
       " 521,\n",
       " 524,\n",
       " 528,\n",
       " 529,\n",
       " 530,\n",
       " 531,\n",
       " 532,\n",
       " 533,\n",
       " 534,\n",
       " 535,\n",
       " 536,\n",
       " 539,\n",
       " 541,\n",
       " 543,\n",
       " 544,\n",
       " 551,\n",
       " 555,\n",
       " 556,\n",
       " 557,\n",
       " 559,\n",
       " 566,\n",
       " 567,\n",
       " 569,\n",
       " 573,\n",
       " 574,\n",
       " 575,\n",
       " 576,\n",
       " 578,\n",
       " 579,\n",
       " 580,\n",
       " 581,\n",
       " 585,\n",
       " 587,\n",
       " 592,\n",
       " 595,\n",
       " 597,\n",
       " 599,\n",
       " 600,\n",
       " 604,\n",
       " 605,\n",
       " 607,\n",
       " 608,\n",
       " 609,\n",
       " 610,\n",
       " 613,\n",
       " 614,\n",
       " 616,\n",
       " 617,\n",
       " 618,\n",
       " 619,\n",
       " 622,\n",
       " 623,\n",
       " 624,\n",
       " 625,\n",
       " 626,\n",
       " 627,\n",
       " 628,\n",
       " 631,\n",
       " 632,\n",
       " 633,\n",
       " 636,\n",
       " 637,\n",
       " 638,\n",
       " 640,\n",
       " 641,\n",
       " 642,\n",
       " 646,\n",
       " 647,\n",
       " 648,\n",
       " 649,\n",
       " 650,\n",
       " 652,\n",
       " 653,\n",
       " 654,\n",
       " 657,\n",
       " 659,\n",
       " 661,\n",
       " 663,\n",
       " 664,\n",
       " 665,\n",
       " 666,\n",
       " 671,\n",
       " 673,\n",
       " 674,\n",
       " 678,\n",
       " 679,\n",
       " 680,\n",
       " 681,\n",
       " 682,\n",
       " 684,\n",
       " 685,\n",
       " 688,\n",
       " 689,\n",
       " 690,\n",
       " 692,\n",
       " 693,\n",
       " 695,\n",
       " 697,\n",
       " 698,\n",
       " 699,\n",
       " 700,\n",
       " 701,\n",
       " 702,\n",
       " 703,\n",
       " 708,\n",
       " 710,\n",
       " 711,\n",
       " 713,\n",
       " 716,\n",
       " 719,\n",
       " 720,\n",
       " 721,\n",
       " 722,\n",
       " 724,\n",
       " 725,\n",
       " 726,\n",
       " 727,\n",
       " 729,\n",
       " 731,\n",
       " 734,\n",
       " 737,\n",
       " 738,\n",
       " 741,\n",
       " 743,\n",
       " 746,\n",
       " 747,\n",
       " 749,\n",
       " 751,\n",
       " 752,\n",
       " 753,\n",
       " 755,\n",
       " 757,\n",
       " 758,\n",
       " 759,\n",
       " 763,\n",
       " 764,\n",
       " 766,\n",
       " 767,\n",
       " 799,\n",
       " 807,\n",
       " 809,\n",
       " 888,\n",
       " 907]"
      ]
     },
     "execution_count": 9,
     "metadata": {},
     "output_type": "execute_result"
    }
   ],
   "source": [
    "non_flood_images"
   ]
  },
  {
   "cell_type": "code",
   "execution_count": 10,
   "metadata": {},
   "outputs": [
    {
     "data": {
      "text/plain": [
       "365"
      ]
     },
     "execution_count": 10,
     "metadata": {},
     "output_type": "execute_result"
    }
   ],
   "source": [
    "len(non_flood_images)"
   ]
  },
  {
   "cell_type": "code",
   "execution_count": 12,
   "metadata": {},
   "outputs": [],
   "source": [
    "y_true = [0 if i in non_flood_images else 1 for i in range(908)]"
   ]
  },
  {
   "cell_type": "code",
   "execution_count": 13,
   "metadata": {},
   "outputs": [
    {
     "name": "stdout",
     "output_type": "stream",
     "text": [
      "CPU times: user 13min 32s, sys: 11 s, total: 13min 43s\n",
      "Wall time: 3min 26s\n"
     ]
    }
   ],
   "source": [
    "%%time\n",
    "y_pred = fic.predict(pd.Series([f'img_{i}.jpg' for i in range(908)]))"
   ]
  },
  {
   "cell_type": "code",
   "execution_count": 19,
   "metadata": {},
   "outputs": [
    {
     "data": {
      "text/html": [
       "<div>\n",
       "<style scoped>\n",
       "    .dataframe tbody tr th:only-of-type {\n",
       "        vertical-align: middle;\n",
       "    }\n",
       "\n",
       "    .dataframe tbody tr th {\n",
       "        vertical-align: top;\n",
       "    }\n",
       "\n",
       "    .dataframe thead th {\n",
       "        text-align: right;\n",
       "    }\n",
       "</style>\n",
       "<table border=\"1\" class=\"dataframe\">\n",
       "  <thead>\n",
       "    <tr style=\"text-align: right;\">\n",
       "      <th></th>\n",
       "      <th>real false</th>\n",
       "      <th>real true</th>\n",
       "    </tr>\n",
       "  </thead>\n",
       "  <tbody>\n",
       "    <tr>\n",
       "      <th>pred false</th>\n",
       "      <td>365</td>\n",
       "      <td>52</td>\n",
       "    </tr>\n",
       "    <tr>\n",
       "      <th>pred true</th>\n",
       "      <td>0</td>\n",
       "      <td>491</td>\n",
       "    </tr>\n",
       "  </tbody>\n",
       "</table>\n",
       "</div>"
      ],
      "text/plain": [
       "            real false  real true\n",
       "pred false         365         52\n",
       "pred true            0        491"
      ]
     },
     "execution_count": 19,
     "metadata": {},
     "output_type": "execute_result"
    }
   ],
   "source": [
    "confuse(y_true, y_pred)"
   ]
  },
  {
   "cell_type": "code",
   "execution_count": 25,
   "metadata": {},
   "outputs": [
    {
     "data": {
      "text/html": [
       "<div>\n",
       "<style scoped>\n",
       "    .dataframe tbody tr th:only-of-type {\n",
       "        vertical-align: middle;\n",
       "    }\n",
       "\n",
       "    .dataframe tbody tr th {\n",
       "        vertical-align: top;\n",
       "    }\n",
       "\n",
       "    .dataframe thead th {\n",
       "        text-align: right;\n",
       "    }\n",
       "</style>\n",
       "<table border=\"1\" class=\"dataframe\">\n",
       "  <thead>\n",
       "    <tr style=\"text-align: right;\">\n",
       "      <th></th>\n",
       "      <th>accuracy</th>\n",
       "      <th>sensitivity</th>\n",
       "      <th>specificity</th>\n",
       "      <th>precision</th>\n",
       "      <th>ROC AUC</th>\n",
       "    </tr>\n",
       "  </thead>\n",
       "  <tbody>\n",
       "    <tr>\n",
       "      <th>MLP</th>\n",
       "      <td>0.943</td>\n",
       "      <td>0.904</td>\n",
       "      <td>1.0</td>\n",
       "      <td>1.0</td>\n",
       "      <td>0.952</td>\n",
       "    </tr>\n",
       "  </tbody>\n",
       "</table>\n",
       "</div>"
      ],
      "text/plain": [
       "     accuracy  sensitivity  specificity  precision  ROC AUC\n",
       "MLP     0.943        0.904          1.0        1.0    0.952"
      ]
     },
     "execution_count": 25,
     "metadata": {},
     "output_type": "execute_result"
    }
   ],
   "source": [
    "evl(y_true, y_pred, 'MLP')"
   ]
  },
  {
   "cell_type": "code",
   "execution_count": null,
   "metadata": {},
   "outputs": [],
   "source": []
  },
  {
   "cell_type": "code",
   "execution_count": null,
   "metadata": {},
   "outputs": [],
   "source": []
  },
  {
   "cell_type": "markdown",
   "metadata": {},
   "source": [
    "### Testing on test data"
   ]
  },
  {
   "cell_type": "code",
   "execution_count": 14,
   "metadata": {},
   "outputs": [],
   "source": [
    "fic = FloodImageClassifier(\n",
    "    '../binary_images/flood_image_classifier_mlp_128_16.sav',\n",
    "    '../binary_images/test_images/',\n",
    "    threshold = 0.52 # nudge model toward specificity\n",
    ")"
   ]
  },
  {
   "cell_type": "code",
   "execution_count": 15,
   "metadata": {},
   "outputs": [],
   "source": [
    "with open('../binary_images/data/non_flood_test_images.txt') as file:\n",
    "    file_contents = file.readlines()\n",
    "\n",
    "non_flood_test_images =[int(num.strip()) for num in (''.join(file_contents)).split(',')]"
   ]
  },
  {
   "cell_type": "code",
   "execution_count": 16,
   "metadata": {},
   "outputs": [],
   "source": [
    "y_true = [1 if i in non_flood_test_images else 0 for i in range(89)]"
   ]
  },
  {
   "cell_type": "code",
   "execution_count": 17,
   "metadata": {},
   "outputs": [
    {
     "name": "stdout",
     "output_type": "stream",
     "text": [
      "CPU times: user 1min 23s, sys: 1.14 s, total: 1min 24s\n",
      "Wall time: 21.2 s\n"
     ]
    }
   ],
   "source": [
    "%%time\n",
    "y_pred = fic.predict(pd.Series([f'img_test_{i}.jpg' for i in range(89)]))"
   ]
  },
  {
   "cell_type": "code",
   "execution_count": 18,
   "metadata": {
    "scrolled": true
   },
   "outputs": [
    {
     "data": {
      "text/html": [
       "<div>\n",
       "<style scoped>\n",
       "    .dataframe tbody tr th:only-of-type {\n",
       "        vertical-align: middle;\n",
       "    }\n",
       "\n",
       "    .dataframe tbody tr th {\n",
       "        vertical-align: top;\n",
       "    }\n",
       "\n",
       "    .dataframe thead th {\n",
       "        text-align: right;\n",
       "    }\n",
       "</style>\n",
       "<table border=\"1\" class=\"dataframe\">\n",
       "  <thead>\n",
       "    <tr style=\"text-align: right;\">\n",
       "      <th></th>\n",
       "      <th>real false</th>\n",
       "      <th>real true</th>\n",
       "    </tr>\n",
       "  </thead>\n",
       "  <tbody>\n",
       "    <tr>\n",
       "      <th>pred false</th>\n",
       "      <td>27</td>\n",
       "      <td>19</td>\n",
       "    </tr>\n",
       "    <tr>\n",
       "      <th>pred true</th>\n",
       "      <td>13</td>\n",
       "      <td>30</td>\n",
       "    </tr>\n",
       "  </tbody>\n",
       "</table>\n",
       "</div>"
      ],
      "text/plain": [
       "            real false  real true\n",
       "pred false          27         19\n",
       "pred true           13         30"
      ]
     },
     "execution_count": 18,
     "metadata": {},
     "output_type": "execute_result"
    }
   ],
   "source": [
    "confuse(y_true, y_pred)"
   ]
  },
  {
   "cell_type": "code",
   "execution_count": 19,
   "metadata": {},
   "outputs": [
    {
     "data": {
      "text/html": [
       "<div>\n",
       "<style scoped>\n",
       "    .dataframe tbody tr th:only-of-type {\n",
       "        vertical-align: middle;\n",
       "    }\n",
       "\n",
       "    .dataframe tbody tr th {\n",
       "        vertical-align: top;\n",
       "    }\n",
       "\n",
       "    .dataframe thead th {\n",
       "        text-align: right;\n",
       "    }\n",
       "</style>\n",
       "<table border=\"1\" class=\"dataframe\">\n",
       "  <thead>\n",
       "    <tr style=\"text-align: right;\">\n",
       "      <th></th>\n",
       "      <th>accuracy</th>\n",
       "      <th>sensitivity</th>\n",
       "      <th>specificity</th>\n",
       "      <th>precision</th>\n",
       "      <th>ROC AUC</th>\n",
       "    </tr>\n",
       "  </thead>\n",
       "  <tbody>\n",
       "    <tr>\n",
       "      <th>MLP</th>\n",
       "      <td>0.64</td>\n",
       "      <td>0.612</td>\n",
       "      <td>0.675</td>\n",
       "      <td>0.698</td>\n",
       "      <td>0.644</td>\n",
       "    </tr>\n",
       "  </tbody>\n",
       "</table>\n",
       "</div>"
      ],
      "text/plain": [
       "     accuracy  sensitivity  specificity  precision  ROC AUC\n",
       "MLP      0.64        0.612        0.675      0.698    0.644"
      ]
     },
     "execution_count": 19,
     "metadata": {},
     "output_type": "execute_result"
    }
   ],
   "source": [
    "evl(y_true, y_pred, 'MLP')"
   ]
  },
  {
   "cell_type": "code",
   "execution_count": 20,
   "metadata": {},
   "outputs": [],
   "source": [
    "false_positive_examples = []\n",
    "false_negative_examples = []\n",
    "for i in range(89):\n",
    "    if y_true[i] and not y_pred[i]:\n",
    "        false_positive_examples.append(i)\n",
    "    elif not y_true[i] and y_pred[i]:\n",
    "        false_negative_examples.append(i)"
   ]
  },
  {
   "cell_type": "code",
   "execution_count": 21,
   "metadata": {},
   "outputs": [
    {
     "data": {
      "text/plain": [
       "[3, 8, 11, 12, 14, 15, 18, 20, 24, 25, 34, 36, 42, 46, 49, 50, 70, 80, 88]"
      ]
     },
     "execution_count": 21,
     "metadata": {},
     "output_type": "execute_result"
    }
   ],
   "source": [
    "false_positive_examples"
   ]
  },
  {
   "cell_type": "code",
   "execution_count": 22,
   "metadata": {},
   "outputs": [
    {
     "data": {
      "text/plain": [
       "[4, 7, 17, 23, 35, 39, 54, 57, 64, 72, 73, 74, 82]"
      ]
     },
     "execution_count": 22,
     "metadata": {},
     "output_type": "execute_result"
    }
   ],
   "source": [
    "false_negative_examples"
   ]
  },
  {
   "cell_type": "code",
   "execution_count": null,
   "metadata": {},
   "outputs": [],
   "source": []
  }
 ],
 "metadata": {
  "kernelspec": {
   "display_name": "Python [conda env:dsi] *",
   "language": "python",
   "name": "conda-env-dsi-py"
  },
  "language_info": {
   "codemirror_mode": {
    "name": "ipython",
    "version": 3
   },
   "file_extension": ".py",
   "mimetype": "text/x-python",
   "name": "python",
   "nbconvert_exporter": "python",
   "pygments_lexer": "ipython3",
   "version": "3.7.7"
  }
 },
 "nbformat": 4,
 "nbformat_minor": 4
}

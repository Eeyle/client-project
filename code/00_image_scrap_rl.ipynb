{
 "cells": [
  {
   "cell_type": "code",
   "execution_count": 112,
   "metadata": {},
   "outputs": [],
   "source": [
    "#import libraries\n",
    "import pandas as pd\n",
    "import requests\n",
    "from bs4 import BeautifulSoup\n",
    "import time"
   ]
  },
  {
   "cell_type": "code",
   "execution_count": 137,
   "metadata": {},
   "outputs": [],
   "source": [
    "%%time\n",
    "\n",
    "#page count for the link\n",
    "page = 1\n",
    "\n",
    "#picture count.use to label pictures\n",
    "pic_count = 1\n",
    "\n",
    "#while loop to reach 4 pages. \n",
    "while page < 5:\n",
    "    \n",
    "    #url for the site\n",
    "    url = f'https://www.gettyimages.com/photos/hurricane-katrina?page={page}&phrase=hurricane%20katrina&sort=mostpopular#license'\n",
    "    \n",
    "    #send request\n",
    "    res = requests.get(url)\n",
    "    \n",
    "    #set assert. Alert if 200 failed. \n",
    "    assert res.status_code == 200\n",
    "    \n",
    "    #setup beatiful soup:\n",
    "    soup = BeautifulSoup(res.content, 'lxml')\n",
    "    \n",
    "    #under this section of 'class'\n",
    "    img = soup.find('div', {'class' : 'search-content__gallery-assets' })\n",
    "    \n",
    "    #go through each 'img' in this section\n",
    "    for row in img.find_all('img')[2:]:\n",
    "        \n",
    "        #try/except when we run into error for wrong img 'src's\n",
    "        try: \n",
    "            #get the url in attrs 'src', which is a url to pull\n",
    "            i_url = row.attrs['src']\n",
    "\n",
    "            #new url request\n",
    "            new_url = i_url\n",
    "\n",
    "            #new request\n",
    "            new_res = requests.get(new_url)\n",
    "\n",
    "\n",
    "            #download the image into folder\n",
    "            with open(f'./pic/pic_{pic_count}.jpg', 'wb') as file:\n",
    "                        file.write(new_res.content)\n",
    "        except:\n",
    "            pass\n",
    "        \n",
    "        #add name counters\n",
    "        pic_count += 1\n",
    "\n",
    "        #timer delay of 1 second. \n",
    "        time.sleep(1)\n",
    "        \n",
    "    #increase page count\n",
    "    \n",
    "    page += 1"
   ]
  },
  {
   "cell_type": "code",
   "execution_count": null,
   "metadata": {},
   "outputs": [],
   "source": []
  }
 ],
 "metadata": {
  "kernelspec": {
   "display_name": "Python 3",
   "language": "python",
   "name": "python3"
  },
  "language_info": {
   "codemirror_mode": {
    "name": "ipython",
    "version": 3
   },
   "file_extension": ".py",
   "mimetype": "text/x-python",
   "name": "python",
   "nbconvert_exporter": "python",
   "pygments_lexer": "ipython3",
   "version": "3.7.6"
  }
 },
 "nbformat": 4,
 "nbformat_minor": 4
}

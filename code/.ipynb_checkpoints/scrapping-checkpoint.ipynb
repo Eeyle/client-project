{
 "cells": [
  {
   "cell_type": "code",
   "execution_count": 7,
   "metadata": {},
   "outputs": [],
   "source": [
    "#install progressbar\n",
    "# pip install progressbar2"
   ]
  },
  {
   "cell_type": "code",
   "execution_count": 14,
   "metadata": {},
   "outputs": [
    {
     "name": "stdout",
     "output_type": "stream",
     "text": [
      "Phrase: katrina\n"
     ]
    },
    {
     "name": "stderr",
     "output_type": "stream",
     "text": [
      "page: 31 [katrina]100% (60 of 60) |######| Elapsed Time: 0:00:16 Time:  0:00:16\n",
      "page: 32 [katrina]100% (60 of 60) |######| Elapsed Time: 0:00:14 Time:  0:00:14\n",
      "page: 33 [katrina]100% (60 of 60) |######| Elapsed Time: 0:00:14 Time:  0:00:14\n",
      "page: 34 [katrina]100% (60 of 60) |######| Elapsed Time: 0:00:17 Time:  0:00:17\n",
      "page: 35 [katrina]100% (60 of 60) |######| Elapsed Time: 0:00:16 Time:  0:00:16\n",
      "page: 36 [katrina]100% (60 of 60) |######| Elapsed Time: 0:00:19 Time:  0:00:19\n",
      "page: 37 [katrina]100% (60 of 60) |######| Elapsed Time: 0:00:16 Time:  0:00:16\n",
      "page: 38 [katrina]100% (60 of 60) |######| Elapsed Time: 0:00:11 Time:  0:00:11\n",
      "page: 39 [katrina]100% (60 of 60) |######| Elapsed Time: 0:00:08 Time:  0:00:08\n",
      "page: 40 [katrina]100% (60 of 60) |######| Elapsed Time: 0:00:10 Time:  0:00:10\n",
      "page: 41 [katrina]100% (60 of 60) |######| Elapsed Time: 0:00:15 Time:  0:00:15\n",
      "page: 42 [katrina]100% (60 of 60) |######| Elapsed Time: 0:00:16 Time:  0:00:16\n",
      "page: 43 [katrina]100% (60 of 60) |######| Elapsed Time: 0:00:16 Time:  0:00:16\n",
      "page: 44 [katrina]100% (60 of 60) |######| Elapsed Time: 0:00:11 Time:  0:00:11\n",
      "page: 45 [katrina]100% (60 of 60) |######| Elapsed Time: 0:00:12 Time:  0:00:12\n"
     ]
    }
   ],
   "source": [
    "# import libraries\n",
    "import requests\n",
    "from bs4 import BeautifulSoup\n",
    "import urllib.request\n",
    "import progressbar\n",
    "phrase = input(\"Phrase: \")\n",
    "\n",
    "for page in range(31, 46):\n",
    "        \n",
    "    get_soup = requests.get(\n",
    "    f\"https://www.gettyimages.com/photos/katrina?family=editorial&page={page}&phrase={phrase}&sort=mostpopular\")\n",
    "    soup = BeautifulSoup(get_soup.text, \"lxml\")\n",
    "    pics = soup.findAll(\"img\", {\"class\": \"gallery-asset__thumb gallery-mosaic-asset__thumb\"})\n",
    "    for pic in progressbar.progressbar(pics, prefix=f\"page: {page} [{phrase}]\"):\n",
    "        try:\n",
    "            urllib.request.urlretrieve(pic.get(\"src\"), filename = f\"/Users/kalz/Desktop/new/{pic.get('alt')}.jpg\")\n",
    "        except:\n",
    "            pass"
   ]
  },
  {
   "cell_type": "code",
   "execution_count": null,
   "metadata": {},
   "outputs": [],
   "source": []
  }
 ],
 "metadata": {
  "kernelspec": {
   "display_name": "Python 3",
   "language": "python",
   "name": "python3"
  },
  "language_info": {
   "codemirror_mode": {
    "name": "ipython",
    "version": 3
   },
   "file_extension": ".py",
   "mimetype": "text/x-python",
   "name": "python",
   "nbconvert_exporter": "python",
   "pygments_lexer": "ipython3",
   "version": "3.7.6"
  }
 },
 "nbformat": 4,
 "nbformat_minor": 4
}
